{
  "nbformat": 4,
  "nbformat_minor": 0,
  "metadata": {
    "colab": {
      "provenance": []
    },
    "kernelspec": {
      "name": "python3",
      "display_name": "Python 3"
    },
    "language_info": {
      "name": "python"
    }
  },
  "cells": [
    {
      "cell_type": "markdown",
      "source": [
        "**Quick Description of program-Get Shopify Orders Through API**\n",
        "\n",
        "This notebook was created to make an extraction of shopify orders from one Shopiry account. After the API request the program performs a loop to read each order and the deposit the resulting data into a pandas data frame"
      ],
      "metadata": {
        "id": "67bwkxMwhKIJ"
      }
    },
    {
      "cell_type": "markdown",
      "source": [
        "![Logo](https://smartkeyword.io/wp-content/uploads/2019/06/1280px-Shopify_logo_2018.svg.png)"
      ],
      "metadata": {
        "id": "7MCBMWIsir_h"
      }
    },
    {
      "cell_type": "code",
      "source": [
        "# Get needed Python Modules\n",
        "import requests\n",
        "import json\n",
        "import pandas as pd\n",
        "#import shopify\n",
        "import binascii\n",
        "import os"
      ],
      "metadata": {
        "id": "hEeG-gTeinGa"
      },
      "execution_count": 149,
      "outputs": []
    },
    {
      "cell_type": "markdown",
      "source": [],
      "metadata": {
        "id": "jBJ9xOYD26kc"
      }
    },
    {
      "cell_type": "code",
      "source": [
        "#Connecting To Google Drive\n",
        "from google.colab import drive\n",
        "drive.mount('/content/drive')"
      ],
      "metadata": {
        "colab": {
          "base_uri": "https://localhost:8080/"
        },
        "id": "6049Q4QEjMRe",
        "outputId": "50c608db-24f6-4c22-fccb-af0db9625f4f"
      },
      "execution_count": 150,
      "outputs": [
        {
          "output_type": "stream",
          "name": "stdout",
          "text": [
            "Drive already mounted at /content/drive; to attempt to forcibly remount, call drive.mount(\"/content/drive\", force_remount=True).\n"
          ]
        }
      ]
    },
    {
      "cell_type": "code",
      "source": [
        "#Shopify API Connection parameters to 1st account to get orders\n",
        "%cd /content/drive/MyDrive/Shopify API Credentials\n",
        "with open('Shopify_API_header_getorders.txt', 'r') as file:\n",
        "    headers = json.load(file)\n",
        "with open('Shopify_API_shop_url_getorders.txt', 'r') as file:\n",
        "    shop_url = file.read().strip()\n",
        "order_url = f\"/api/2022-10/orders.json?status=any&fields=name,created_at,line_items,customer,financial_status,total_price\"\n",
        "\n"
      ],
      "metadata": {
        "colab": {
          "base_uri": "https://localhost:8080/"
        },
        "id": "uiJEyDngjVaQ",
        "outputId": "633a6d83-5525-4ebc-c5f7-7fb527807cf8"
      },
      "execution_count": 151,
      "outputs": [
        {
          "output_type": "stream",
          "name": "stdout",
          "text": [
            "/content/drive/MyDrive/Shopify API Credentials\n"
          ]
        }
      ]
    },
    {
      "cell_type": "code",
      "source": [
        "#get orders\n",
        "status = requests.get(shop_url + order_url, timeout=60, headers=headers)"
      ],
      "metadata": {
        "id": "h-tyjdGTqO1R"
      },
      "execution_count": 157,
      "outputs": []
    },
    {
      "cell_type": "code",
      "source": [
        "orders_df = pd.DataFrame()"
      ],
      "metadata": {
        "id": "L-IKhdrc6SIB"
      },
      "execution_count": 158,
      "outputs": []
    },
    {
      "cell_type": "code",
      "source": [
        "#loop to read each order and deposit the data into a dataframe\n",
        "i=0\n",
        "#status.json()['orders']\n",
        "order_data=status.json()['orders']\n",
        "i=0\n",
        "i_max=10\n",
        "for order in range(i_max):\n",
        "    order_data=status.json()['orders'][i]\n",
        "    del order_data['customer']\n",
        "    del order_data['line_items']\n",
        "    #del order_data['id']\n",
        "    order_df = pd.DataFrame([order_data])\n",
        "    orders_df = pd.concat([orders_df, order_df], ignore_index=True)\n",
        "    i=i+1\n",
        "    print(order_data)"
      ],
      "metadata": {
        "colab": {
          "base_uri": "https://localhost:8080/"
        },
        "id": "RFgWEywhmF1k",
        "outputId": "bf0e18c6-655e-4575-94e5-8115f503df38"
      },
      "execution_count": 161,
      "outputs": [
        {
          "output_type": "stream",
          "name": "stdout",
          "text": [
            "{'created_at': '2024-07-14T21:02:49-07:00', 'financial_status': 'paid', 'name': '#MC2046US', 'total_price': '249.93'}\n",
            "{'created_at': '2024-07-14T20:04:33-07:00', 'financial_status': 'paid', 'name': '#MC2045US', 'total_price': '4399.00'}\n",
            "{'created_at': '2024-07-14T09:31:04-07:00', 'financial_status': 'paid', 'name': '#MC2044US', 'total_price': '2576.00'}\n",
            "{'created_at': '2024-07-13T20:14:47-07:00', 'financial_status': 'paid', 'name': '#MC2043US', 'total_price': '99.95'}\n",
            "{'created_at': '2024-07-13T16:07:48-07:00', 'financial_status': 'paid', 'name': '#MC2042US', 'total_price': '3059.88'}\n",
            "{'created_at': '2024-07-13T15:02:12-07:00', 'financial_status': 'paid', 'name': '#MC2041US', 'total_price': '2098.95'}\n",
            "{'created_at': '2024-07-13T14:54:52-07:00', 'financial_status': 'paid', 'name': '#MC2040US', 'total_price': '399.95'}\n",
            "{'created_at': '2024-07-13T09:04:36-07:00', 'financial_status': 'paid', 'name': '#MC2039US', 'total_price': '3899.00'}\n",
            "{'created_at': '2024-07-12T17:44:16-07:00', 'financial_status': 'paid', 'name': '#MC2038US', 'total_price': '2399.00'}\n",
            "{'created_at': '2024-07-12T17:43:34-07:00', 'financial_status': 'paid', 'name': '#MC2037US', 'total_price': '1100.00'}\n"
          ]
        }
      ]
    },
    {
      "cell_type": "code",
      "source": [
        "print(orders_df)"
      ],
      "metadata": {
        "colab": {
          "base_uri": "https://localhost:8080/"
        },
        "id": "yg10BqrNwWqK",
        "outputId": "6c3ffcfd-4911-4b99-8596-f499db203914"
      },
      "execution_count": 162,
      "outputs": [
        {
          "output_type": "stream",
          "name": "stdout",
          "text": [
            "                  created_at financial_status       name total_price\n",
            "0  2024-07-14T21:02:49-07:00             paid  #MC2046US      249.93\n",
            "1  2024-07-14T20:04:33-07:00             paid  #MC2045US     4399.00\n",
            "2  2024-07-14T09:31:04-07:00             paid  #MC2044US     2576.00\n",
            "3  2024-07-13T20:14:47-07:00             paid  #MC2043US       99.95\n",
            "4  2024-07-13T16:07:48-07:00             paid  #MC2042US     3059.88\n",
            "5  2024-07-13T15:02:12-07:00             paid  #MC2041US     2098.95\n",
            "6  2024-07-13T14:54:52-07:00             paid  #MC2040US      399.95\n",
            "7  2024-07-13T09:04:36-07:00             paid  #MC2039US     3899.00\n",
            "8  2024-07-12T17:44:16-07:00             paid  #MC2038US     2399.00\n",
            "9  2024-07-12T17:43:34-07:00             paid  #MC2037US     1100.00\n"
          ]
        }
      ]
    },
    {
      "cell_type": "code",
      "source": [],
      "metadata": {
        "id": "-Yv_kVBX6qlY"
      },
      "execution_count": null,
      "outputs": []
    }
  ]
}